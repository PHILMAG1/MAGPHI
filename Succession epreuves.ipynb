{
 "cells": [
  {
   "cell_type": "code",
   "execution_count": 5,
   "metadata": {},
   "outputs": [],
   "source": [
    "from math import*\n",
    "from random import*\n",
    "import matplotlib.pyplot as plt"
   ]
  },
  {
   "cell_type": "code",
   "execution_count": null,
   "metadata": {},
   "outputs": [],
   "source": []
  },
  {
   "cell_type": "code",
   "execution_count": 8,
   "metadata": {},
   "outputs": [],
   "source": [
    "def simulloi():\n",
    "    alea=random()\n",
    "    if alea<0.2:\n",
    "        return -1\n",
    "    if alea<0.50:\n",
    "        return 0\n",
    "    if alea<...:\n",
    "        return 1\n",
    "    if alea<...:\n",
    "        return 2\n",
    "    return 3"
   ]
  },
  {
   "cell_type": "code",
   "execution_count": 10,
   "metadata": {},
   "outputs": [
    {
     "data": {
      "text/plain": [
       "3"
      ]
     },
     "execution_count": 10,
     "metadata": {},
     "output_type": "execute_result"
    }
   ],
   "source": [
    "simulloi()"
   ]
  },
  {
   "cell_type": "code",
   "execution_count": null,
   "metadata": {},
   "outputs": [],
   "source": [
    "#E pour espérance d'une variable aléatoire\n",
    "#Valeurs et probas sont des listes qui déterminent la loi de probabilité\n",
    "def esperance(valeurs,probas): \n",
    "    mu=sum([valeurs[k]*probas[k] for k in range(len(valeurs))])\n",
    "    return mu\n",
    "    \n",
    "#écart-type d'une variable aléatoire \n",
    "#Valeurs et probas sont des listes qui déterminent la loi de probabilité\n",
    "# var désigne le calcul de la variance.\n",
    "# deux fonctions sigma1 et sigma2 pour montrer qu'il est possible d'utiliser \n",
    "#les deux formules de la variance (nommée var)\n",
    "def sigma1(valeurs,probas): \n",
    "    mu=esperance(valeurs,probas)\n",
    "    var=sum([(valeurs[j]-mu)**2*probas[j] for j in range(len(valeurs))])\n",
    "    sig=sqrt(var)\n",
    "    return(sig)\n",
    "    \n",
    "def sigma2(valeurs,probas):\n",
    "    mu=esperance(valeurs,probas)\n",
    "    var=sum([(valeurs[j]**2*probas[j]) for j in range(len(valeurs))])-mu**2\n",
    "    sig=sqrt(var)\n",
    "    return(sig)"
   ]
  },
  {
   "cell_type": "code",
   "execution_count": null,
   "metadata": {},
   "outputs": [],
   "source": []
  },
  {
   "cell_type": "code",
   "execution_count": null,
   "metadata": {},
   "outputs": [],
   "source": [
    "\n",
    "\n",
    "def absfinale(n,p):\n",
    "    x=0\n",
    "    for impact in range(n):\n",
    "        if random()<=p :\n",
    "            x=x+1\n",
    "        else:\n",
    "            x=x-1\n",
    "    return x\n",
    "    \n",
    "def Galton(k,n,p):\n",
    "    case = [0 for i in range (n+1)]\n",
    "    for b in range(k):\n",
    "        x=absfinale(n,p)\n",
    "        indice=(x+n)//2\n",
    "        case[indice]=case[indice]+1\n",
    "    return case\n",
    "\n",
    "def histo(k,n,p):\n",
    "    A=[i for i in range(n+1)]\n",
    "    H=Galton(k,n,p)\n",
    "    plt.bar(A,H)\n",
    "    plt.show()"
   ]
  },
  {
   "cell_type": "code",
   "execution_count": null,
   "metadata": {},
   "outputs": [],
   "source": []
  }
 ],
 "metadata": {
  "kernelspec": {
   "display_name": "Python 3",
   "language": "python",
   "name": "python3"
  },
  "language_info": {
   "codemirror_mode": {
    "name": "ipython",
    "version": 3
   },
   "file_extension": ".py",
   "mimetype": "text/x-python",
   "name": "python",
   "nbconvert_exporter": "python",
   "pygments_lexer": "ipython3",
   "version": "3.7.2"
  }
 },
 "nbformat": 4,
 "nbformat_minor": 2
}
