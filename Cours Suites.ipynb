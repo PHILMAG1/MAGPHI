{
 "cells": [
  {
   "cell_type": "markdown",
   "metadata": {},
   "source": [
    "# Suites numériques\n",
    "\n",
    "## 1. Histoire des Mathématiques\n",
    "### a) Le saviez-vous ?\n",
    "### b) Activité : la méthode de Héron d'Alexandrie\n",
    "\n"
   ]
  },
  {
   "cell_type": "code",
   "execution_count": null,
   "metadata": {},
   "outputs": [],
   "source": [
    "def babylone(A,N):\n",
    "    l=[]\n",
    "    u=4\n",
    "    for i in range(....):\n",
    "        l.append(u)\n",
    "        ..............\n",
    "    return l"
   ]
  },
  {
   "cell_type": "code",
   "execution_count": null,
   "metadata": {},
   "outputs": [],
   "source": []
  },
  {
   "cell_type": "markdown",
   "metadata": {},
   "source": [
    "\n",
    "## 2. Généralités sur les suites\n",
    "### a) Définition\n",
    "### b) Relation par récurrence et relation explicite\n",
    "### c) Variation d'une suite\n",
    "#### Exemple 2\n"
   ]
  },
  {
   "cell_type": "code",
   "execution_count": null,
   "metadata": {},
   "outputs": [],
   "source": [
    "N=int(input(\"Quel est le rang pour lequel vous souhaitez connaître le terme de la suite ? \"))\n",
    "\n",
    "def terme_rang_n(N): \n",
    "    u=......\n",
    "    for i in range(N):\n",
    "        .............\n",
    "    return ......\n",
    "\n",
    "print(terme_rang_n(N))"
   ]
  },
  {
   "cell_type": "code",
   "execution_count": null,
   "metadata": {},
   "outputs": [],
   "source": []
  },
  {
   "cell_type": "markdown",
   "metadata": {},
   "source": [
    "#### Exemple 3"
   ]
  },
  {
   "cell_type": "code",
   "execution_count": null,
   "metadata": {},
   "outputs": [],
   "source": [
    "def f(x):\n",
    "    return ..............\n",
    "\n",
    "def suite_explicite(N):\n",
    "    l=[]\n",
    "    for i in range(.....):\n",
    "        l.append(f(i))\n",
    "    return l"
   ]
  },
  {
   "cell_type": "code",
   "execution_count": null,
   "metadata": {},
   "outputs": [],
   "source": []
  },
  {
   "cell_type": "markdown",
   "metadata": {},
   "source": [
    "### d) Représentation graphique d'une suite\n",
    "\n",
    "## 3. Suites arithmétiques\n",
    "### a) Exemples\n",
    "### b) Relation par récurrence\n",
    "#### Algorithme et Python : génération d'une suite arithmétique\n",
    "Saisir le programme situé dans la fenêtre et le tester comme dans les exemples.\n"
   ]
  },
  {
   "cell_type": "code",
   "execution_count": null,
   "metadata": {},
   "outputs": [],
   "source": []
  },
  {
   "cell_type": "code",
   "execution_count": null,
   "metadata": {},
   "outputs": [],
   "source": []
  },
  {
   "cell_type": "markdown",
   "metadata": {},
   "source": [
    "\n",
    "### c) Relation explicite\n",
    "### d) Représentation graphique\n",
    "### e) Sens de variation d'une suite arithmétique\n",
    "### f) Somme finie des éléments d'une suite arithmétique\n",
    "#### Algorithme et Python : somme finie d'une suite arithmétique\n",
    "Saisir le programme situé dans la fenêtre et le tester comme dans les exemples."
   ]
  },
  {
   "cell_type": "code",
   "execution_count": null,
   "metadata": {},
   "outputs": [],
   "source": []
  },
  {
   "cell_type": "code",
   "execution_count": null,
   "metadata": {},
   "outputs": [],
   "source": []
  },
  {
   "cell_type": "markdown",
   "metadata": {},
   "source": [
    "\n",
    "## 4. Suites géométriques\n",
    "### a) Exemples\n",
    "### b) Relation par récurrence\n",
    "#### Algorithme et Python : génération d'une suite géométrique\n",
    "Saisir le programme situé dans la fenêtre et le tester comme dans les exemples."
   ]
  },
  {
   "cell_type": "code",
   "execution_count": null,
   "metadata": {},
   "outputs": [],
   "source": []
  },
  {
   "cell_type": "code",
   "execution_count": null,
   "metadata": {},
   "outputs": [],
   "source": []
  },
  {
   "cell_type": "markdown",
   "metadata": {},
   "source": [
    "### c) Relation explicite\n",
    "### d) Représentation graphique\n",
    "### e) Sens de variation d'une suite géométrique\n",
    "### f) Somme finie des éléments d'une suite géométrique\n",
    "#### Algorithme et Python : somme finie d'une suite géométrique\n",
    "Saisir le programme situé dans la fenêtre et le tester comme dans les exemples.\n"
   ]
  },
  {
   "cell_type": "code",
   "execution_count": null,
   "metadata": {},
   "outputs": [],
   "source": []
  },
  {
   "cell_type": "code",
   "execution_count": null,
   "metadata": {},
   "outputs": [],
   "source": []
  },
  {
   "cell_type": "markdown",
   "metadata": {},
   "source": [
    "## 5. Raisonnement par récurrence\n",
    "### a) Le principe de récurrence\n",
    "### b) Exercices et exemples\n",
    "\n",
    "## 6. Limite finie ou infinie d'une suite\n",
    "\n",
    "## 7. Opération sur les limites\n",
    "### a) Multiplication par une constante\n",
    "### b) Limite d'une somme de suites\n",
    "### c) Limite d'un produit de suites\n",
    "### d) Limite d'un quotient de suites\n",
    "### e) Formes indéterminées\n",
    "\n",
    "## 8) Théorèmes sur les limites\n",
    "\n",
    "#### Exercice 36"
   ]
  },
  {
   "cell_type": "code",
   "execution_count": null,
   "metadata": {},
   "outputs": [],
   "source": []
  },
  {
   "cell_type": "code",
   "execution_count": null,
   "metadata": {},
   "outputs": [],
   "source": []
  },
  {
   "cell_type": "markdown",
   "metadata": {},
   "source": [
    "## 9) Algorithme de seuil\n",
    "\n",
    "#### Recherche 44"
   ]
  },
  {
   "cell_type": "code",
   "execution_count": null,
   "metadata": {},
   "outputs": [],
   "source": [
    "def seuil(.....):\n",
    "    n=0\n",
    "    u=\n",
    "    while u ...... A:\n",
    "        n=\n",
    "        u=\n",
    "    return ......\n",
    "        "
   ]
  },
  {
   "cell_type": "code",
   "execution_count": null,
   "metadata": {},
   "outputs": [],
   "source": []
  },
  {
   "cell_type": "markdown",
   "metadata": {},
   "source": [
    "## 10) Suites majorées, minorées et bornées\n",
    "#### Recherche 48"
   ]
  },
  {
   "cell_type": "code",
   "execution_count": null,
   "metadata": {},
   "outputs": [],
   "source": []
  },
  {
   "cell_type": "code",
   "execution_count": null,
   "metadata": {},
   "outputs": [],
   "source": []
  }
 ],
 "metadata": {
  "kernelspec": {
   "display_name": "Python 3",
   "language": "python",
   "name": "python3"
  },
  "language_info": {
   "codemirror_mode": {
    "name": "ipython",
    "version": 3
   },
   "file_extension": ".py",
   "mimetype": "text/x-python",
   "name": "python",
   "nbconvert_exporter": "python",
   "pygments_lexer": "ipython3",
   "version": "3.7.2"
  }
 },
 "nbformat": 4,
 "nbformat_minor": 2
}
