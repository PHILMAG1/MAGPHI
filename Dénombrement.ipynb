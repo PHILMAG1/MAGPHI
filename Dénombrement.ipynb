{
 "cells": [
  {
   "cell_type": "markdown",
   "metadata": {},
   "source": [
    "# 1. Cardinal d'un ensemble : principe additif\n",
    "# 2. Produit cartésien\n",
    "# 3. Nombre de k-uplets\n",
    "## a) Un cas particulier important : les k-uplets de {0;1}\n",
    "## b) Cas général\n",
    "\n"
   ]
  },
  {
   "cell_type": "code",
   "execution_count": null,
   "metadata": {},
   "outputs": [],
   "source": [
    "def uplets01(k):\n",
    "    a=[[]]\n",
    "    for i in range(k):\n",
    "        b=[]\n",
    "        for j in range(len(a)):\n",
    "            b+=[a[j]+...,a[j]+...]\n",
    "        a=b\n",
    "    return(a)"
   ]
  },
  {
   "cell_type": "code",
   "execution_count": null,
   "metadata": {},
   "outputs": [],
   "source": []
  },
  {
   "cell_type": "markdown",
   "metadata": {},
   "source": [
    "# 4. Parties d'un ensemble"
   ]
  },
  {
   "cell_type": "code",
   "execution_count": null,
   "metadata": {},
   "outputs": [],
   "source": [
    "def parties(L):\n",
    "    P=[]\n",
    "    n=len(L)\n",
    "    M=uplets01(n)\n",
    "    for i in range(2**n):\n",
    "        l=[]\n",
    "        for j in range(n):\n",
    "            if M[i][j]==...:\n",
    "                l+=[L[j]]\n",
    "        P+=[l]\n",
    "    return(P)"
   ]
  },
  {
   "cell_type": "code",
   "execution_count": null,
   "metadata": {},
   "outputs": [],
   "source": []
  },
  {
   "cell_type": "markdown",
   "metadata": {},
   "source": [
    "# 5. Nombre de combinaisons"
   ]
  },
  {
   "cell_type": "code",
   "execution_count": null,
   "metadata": {},
   "outputs": [],
   "source": [
    "def parties_a_k_elements(L,k):\n",
    "    n=len(parties(L))\n",
    "    P=[]\n",
    "    for i in range(n):\n",
    "        if len(parties(L)[i])==...:\n",
    "            P+=[parties(L)[i]]\n",
    "    return(P)"
   ]
  },
  {
   "cell_type": "code",
   "execution_count": null,
   "metadata": {},
   "outputs": [],
   "source": []
  },
  {
   "cell_type": "code",
   "execution_count": null,
   "metadata": {},
   "outputs": [],
   "source": []
  },
  {
   "cell_type": "code",
   "execution_count": null,
   "metadata": {},
   "outputs": [],
   "source": [
    "def coeff_binom(n):\n",
    "    a=[1,1] #coefficients bonomiaux pour n=1\n",
    "    for m in range(2,n+1): #on dresse la liste des coeff binomiaux\n",
    "    # pour la ligne m=2, puis m=3, ...puis m=n\n",
    "        b=[1] # coefficient binomial (m,0)\n",
    "        for k in range(m-1):\n",
    "            b+=[a[k]+...] # pour k=0, on calcule le coeff binomial (m,1).\n",
    "        # pour k=1, on calcule le coeff binomial (m,2), etc...\n",
    "        b+=[1] # coefficient binomial (m,m)\n",
    "        a=b\n",
    "    return(a)\n",
    "    "
   ]
  },
  {
   "cell_type": "code",
   "execution_count": null,
   "metadata": {},
   "outputs": [],
   "source": []
  },
  {
   "cell_type": "markdown",
   "metadata": {},
   "source": [
    "# 6. Permutations\n",
    "# 7. Arrangements"
   ]
  },
  {
   "cell_type": "code",
   "execution_count": null,
   "metadata": {},
   "outputs": [],
   "source": []
  }
 ],
 "metadata": {
  "kernelspec": {
   "display_name": "Python 3",
   "language": "python",
   "name": "python3"
  },
  "language_info": {
   "codemirror_mode": {
    "name": "ipython",
    "version": 3
   },
   "file_extension": ".py",
   "mimetype": "text/x-python",
   "name": "python",
   "nbconvert_exporter": "python",
   "pygments_lexer": "ipython3",
   "version": "3.7.2"
  }
 },
 "nbformat": 4,
 "nbformat_minor": 2
}
