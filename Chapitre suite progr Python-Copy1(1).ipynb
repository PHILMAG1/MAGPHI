{
 "cells": [
  {
   "cell_type": "markdown",
   "metadata": {},
   "source": [
    "# Suites numériques\n",
    "\n",
    "\n"
   ]
  },
  {
   "cell_type": "markdown",
   "metadata": {},
   "source": [
    "## 5) Algorithme de seuil\n",
    "\n",
    "#### Recherche 17"
   ]
  },
  {
   "cell_type": "code",
   "execution_count": 1,
   "metadata": {},
   "outputs": [],
   "source": [
    "def seuil(A):\n",
    "    n=0\n",
    "    u=2\n",
    "    while u <= A:\n",
    "        n=n+1\n",
    "        u=3*n**2+5*n+2\n",
    "    return n\n",
    "        "
   ]
  },
  {
   "cell_type": "code",
   "execution_count": null,
   "metadata": {},
   "outputs": [],
   "source": []
  },
  {
   "cell_type": "markdown",
   "metadata": {},
   "source": [
    "#### Recherche 18"
   ]
  },
  {
   "cell_type": "code",
   "execution_count": 2,
   "metadata": {},
   "outputs": [
    {
     "ename": "SyntaxError",
     "evalue": "invalid syntax (<ipython-input-2-2cbab5e896b1>, line 4)",
     "output_type": "error",
     "traceback": [
      "\u001b[0;36m  File \u001b[0;32m\"<ipython-input-2-2cbab5e896b1>\"\u001b[0;36m, line \u001b[0;32m4\u001b[0m\n\u001b[0;31m    while u......:\u001b[0m\n\u001b[0m             ^\u001b[0m\n\u001b[0;31mSyntaxError\u001b[0m\u001b[0;31m:\u001b[0m invalid syntax\n"
     ]
    }
   ],
   "source": [
    "def seuil(A):\n",
    "    u=2\n",
    "    n=0\n",
    "    while u......:\n",
    "        u=......\n",
    "        n=......\n",
    "    return ......"
   ]
  },
  {
   "cell_type": "markdown",
   "metadata": {},
   "source": [
    "## 6) Suites majorées, minorées et bornées\n",
    "#### Recherche 22"
   ]
  },
  {
   "cell_type": "code",
   "execution_count": null,
   "metadata": {},
   "outputs": [],
   "source": [
    "def seuil(r):\n",
    "    l=......\n",
    "    u=1\n",
    "    n=0\n",
    "    while (u<l-r) or (u>l):\n",
    "        u=......\n",
    "        n=n+1\n",
    "    return ......\n",
    "    \n",
    "    "
   ]
  },
  {
   "cell_type": "code",
   "execution_count": null,
   "metadata": {},
   "outputs": [],
   "source": [
    "\n"
   ]
  },
  {
   "cell_type": "markdown",
   "metadata": {},
   "source": [
    "## 7) Approfondissement\n",
    "#### Recherche Grand Oral"
   ]
  },
  {
   "cell_type": "code",
   "execution_count": null,
   "metadata": {},
   "outputs": [],
   "source": [
    "def babylone(A,a,N):\n",
    "    l=[]\n",
    "    u=a\n",
    "    for i in range(N):\n",
    "        l.append(u)\n",
    "        u=......\n",
    "    return ......"
   ]
  },
  {
   "cell_type": "code",
   "execution_count": null,
   "metadata": {},
   "outputs": [],
   "source": []
  },
  {
   "cell_type": "code",
   "execution_count": null,
   "metadata": {},
   "outputs": [],
   "source": [
    "import turtle\n",
    "from turtle import*\n",
    "\n",
    "def trace(A,a,N):\n",
    "#A : nombre dont on cherche la racine carrée\n",
    "#a : valeur approchée par excès de la racine carrée\n",
    "#N : nombre de rectangles à tracer\n",
    "    up()\n",
    "    goto(-450,-350)\n",
    "    down()\n",
    "    setheading(-90)\n",
    "    l=babylone(A,a,N)\n",
    "    for i in range(N):\n",
    "        if i%4==0:\n",
    "            turtle.pencolor(\"orange\")\n",
    "        elif i%4==1:\n",
    "            turtle.pencolor(\"blue\")\n",
    "        elif i%4==2:\n",
    "            turtle.pencolor(\"red\")\n",
    "        elif i%4==3:\n",
    "            turtle.pencolor(\"green\")\n",
    "        for j in range(2):\n",
    "            left(90)\n",
    "            forward(l[i]*700/a)\n",
    "            left(90)\n",
    "            forward((A*700/a)/l[i])\n",
    "    done()"
   ]
  },
  {
   "cell_type": "code",
   "execution_count": null,
   "metadata": {},
   "outputs": [],
   "source": []
  }
 ],
 "metadata": {
  "kernelspec": {
   "display_name": "Python 3",
   "language": "python",
   "name": "python3"
  },
  "language_info": {
   "codemirror_mode": {
    "name": "ipython",
    "version": 3
   },
   "file_extension": ".py",
   "mimetype": "text/x-python",
   "name": "python",
   "nbconvert_exporter": "python",
   "pygments_lexer": "ipython3",
   "version": "3.7.2"
  }
 },
 "nbformat": 4,
 "nbformat_minor": 2
}
